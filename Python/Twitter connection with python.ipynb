{
 "cells": [
  {
   "cell_type": "code",
   "execution_count": null,
   "metadata": {
    "collapsed": true
   },
   "outputs": [],
   "source": [
    "#before that run commond  conda install twython in annoconda prompt"
   ]
  },
  {
   "cell_type": "code",
   "execution_count": 1,
   "metadata": {
    "collapsed": true
   },
   "outputs": [],
   "source": [
    "from twython import Twython"
   ]
  },
  {
   "cell_type": "code",
   "execution_count": 3,
   "metadata": {
    "collapsed": true
   },
   "outputs": [],
   "source": [
    "#http://developer.twitter.com?\n",
<<<<<<< HEAD
    "consumer_key = 'sz.......9'\n",
    "consumer_secret = 'Vh.......J'\n",
    "access_token ='1................QH' \n",
    "access_token_secret = 'O.........................H'"
=======
    "consumer_key = 'szO2Xat7b5...........wM5Bo'\n",
    "consumer_secret = 'VhvAL......YLub3ZQ7J'\n",
    "access_token ='10186.......68064544769-T.........H' \n",
    "access_token_secret = 'ON1vHE...ySDWjrMPbf............'"
>>>>>>> 9df1868d67946db123ab2ac64b0af0272e3db206
   ]
  },
  {
   "cell_type": "code",
   "execution_count": 4,
   "metadata": {
    "collapsed": true
   },
   "outputs": [],
   "source": [
    "twitter = Twython(consumer_key, consumer_secret, access_token, access_token_secret)"
   ]
  },
  {
   "cell_type": "code",
   "execution_count": 5,
   "metadata": {},
   "outputs": [
    {
     "name": "stdout",
     "output_type": "stream",
     "text": [
      "{'statuses': [{'created_at': 'Sun Jul 15 16:53:51 +0000 2018', 'id': 1018539....49248, 'id_str': '1018539......149248', 'text': '⭐️⭐️\\n#FRA\\n\\nFrance have won the 2018 FIFA #WorldCup in Moscow! \\n\\n#FRACRO // #WorldCupFinal https://t.co/fZhmJmxjVh', 'truncated': False, 'entities': {'hashtags': [{'text': 'FRA', 'indices': [5, 9]}, {'text': 'WorldCup', 'indices': [41, 50]}, {'text': 'FRACRO', 'indices': [64, 71]}, {'text': 'WorldCupFinal', 'indices': [75, 89]}], 'symbols': [], 'user_mentions': [], 'urls': [], 'media': [{'id': 1018537859379351552, 'id_str': '1018537859379351552', 'indices': [90, 113], 'media_url': 'http://pbs.twimg.com/media/DiKSyWKX0AAHPwT.jpg', 'media_url_https': 'https://pbs.twimg.com/media/DiKSyWKX0AAHPwT.jpg', 'url': 'https://t.co/fZhmJmxjVh', 'display_url': 'pic.twitter.com/fZhmJmxjVh', 'expanded_url': 'https://twitter.com/FIFAWorldCup/status/1018539151556149248/photo/1', 'type': 'photo', 'sizes': {'thumb': {'w': 150, 'h': 150, 'resize': 'crop'}, 'large': {'w': 1200, 'h': 628, 'resize': 'fit'}, 'medium': {'w': 1200, 'h': 628, 'resize': 'fit'}, 'small': {'w': 680, 'h': 356, 'resize': 'fit'}}}]}, 'extended_entities': {'media': [{'id': 1018537859379351552, 'id_str': '1018537859379351552', 'indices': [90, 113], 'media_url': 'http://pbs.twimg.com/media/DiKSyWKX0AAHPwT.jpg', 'media_url_https': 'https://pbs.twimg.com/media/DiKSyWKX0AAHPwT.jpg', 'url': 'https://t.co/fZhmJmxjVh', 'display_url': 'pic.twitter.com/fZhmJmxjVh', 'expanded_url': 'https://twitter.com/FIFAWorldCup/status/1018539151556149248/photo/1', 'type': 'photo', 'sizes': {'thumb': {'w': 150, 'h': 150, 'resize': 'crop'}, 'large': {'w': 1200, 'h': 628, 'resize': 'fit'}, 'medium': {'w': 1200, 'h': 628, 'resize': 'fit'}, 'small': {'w': 680, 'h': 356, 'resize': 'fit'}}}]}, 'metadata': {'result_type': 'popular', 'iso_language_code': 'en'}, 'source': '<a href=\"http://twitter.com\" rel=\"nofollow\">Twitter Web Client</a>', 'in_reply_to_status_id': None, 'in_reply_to_status_id_str': None, 'in_reply_to_user_id': None, 'in_reply_to_user_id_str': None, 'in_reply_to_screen_name': None, 'user': {'id': 138372303, 'id_str': '138372303', 'name': 'FIFA World Cup', 'screen_name': 'FIFAWorldCup', 'location': 'Moscow, Russia', 'description': 'The official Twitter account of the FIFA World Cup!', 'url': 'https://t.co/NhpNiwtgzP', 'entities': {'url': {'urls': [{'url': 'https://t.co/NhpNiwtgzP', 'expanded_url': 'http://www.fifa.com/worldcup', 'display_url': 'fifa.com/worldcup', 'indices': [0, 23]}]}, 'description': {'urls': []}}, 'protected': False, 'followers_count': 6973335, 'friends_count': 544, 'listed_count': 12615, 'created_at': 'Thu Apr 29 10:58:07 +0000 2010', 'favourites_count': 553, 'utc_offset': None, 'time_zone': None, 'geo_enabled': True, 'verified': True, 'statuses_count': 18832, 'lang': 'en', 'contributors_enabled': False, 'is_translator': False, 'is_translation_enabled': False, 'profile_background_color': 'C6E2EE', 'profile_background_image_url': 'http://abs.twimg.com/images/themes/theme1/bg.png', 'profile_background_image_url_https': 'https://abs.twimg.com/images/themes/theme1/bg.png', 'profile_background_tile': False, 'profile_image_url': 'http://pbs.twimg.com/profile_images/1018412081677328384/KqxZyazx_normal.jpg', 'profile_image_url_https': 'https://pbs.twimg.com/profile_images/1018412081677328384/KqxZyazx_normal.jpg', 'profile_banner_url': 'https://pbs.twimg.com/profile_banners/138372303/1531676624', 'profile_link_color': '1B95E0', 'profile_sidebar_border_color': 'FFFFFF', 'profile_sidebar_fill_color': 'DAECF4', 'profile_text_color': '663B12', 'profile_use_background_image': True, 'has_extended_profile': False, 'default_profile': False, 'default_profile_image': False, 'following': False, 'follow_request_sent': False, 'notifications': False, 'translator_type': 'none'}, 'geo': None, 'coordinates': None, 'place': None, 'contributors': None, 'is_quote_status': False, 'retweet_count': 65276, 'favorite_count': 97429, 'favorited': False, 'retweeted': False, 'possibly_sensitive': False, 'lang': 'en'}, {'created_at': 'Sun Jul 15 17:22:20 +0000 2018', 'id': 1018546318854193157, 'id_str': '1018546318854193157', 'text': 'FIFA Young Player Award: \\n\\n🥇Kylian MBAPPE (#FRA) \\n\\n#WorldCup https://t.co/v4eMfItkkP', 'truncated': False, 'entities': {'hashtags': [{'text': 'FRA', 'indices': [43, 47]}, {'text': 'WorldCup', 'indices': [51, 60]}], 'symbols': [], 'user_mentions': [], 'urls': [], 'media': [{'id': 1018546257198010368, 'id_str': '1018546257198010368', 'indices': [61, 84], 'media_url': 'http://pbs.twimg.com/media/DiKabKeXUAANHJu.jpg', 'media_url_https': 'https://pbs.twimg.com/media/DiKabKeXUAANHJu.jpg', 'url': 'https://t.co/v4eMfItkkP', 'display_url': 'pic.twitter.com/v4eMfItkkP', 'expanded_url': 'https://twitter.com/FIFAWorldCup/status/1018546318854193157/photo/1', 'type': 'photo', 'sizes': {'medium': {'w': 1200, 'h': 628, 'resize': 'fit'}, 'thumb': {'w': 150, 'h': 150, 'resize': 'crop'}, 'large': {'w': 1200, 'h': 628, 'resize': 'fit'}, 'small': {'w': 680, 'h': 356, 'resize': 'fit'}}}]}, 'extended_entities': {'media': [{'id': 1018546257198010368, 'id_str': '1018546257198010368', 'indices': [61, 84], 'media_url': 'http://pbs.twimg.com/media/DiKabKeXUAANHJu.jpg', 'media_url_https': 'https://pbs.twimg.com/media/DiKabKeXUAANHJu.jpg', 'url': 'https://t.co/v4eMfItkkP', 'display_url': 'pic.twitter.com/v4eMfItkkP', 'expanded_url': 'https://twitter.com/FIFAWorldCup/status/1018546318854193157/photo/1', 'type': 'photo', 'sizes': {'medium': {'w': 1200, 'h': 628, 'resize': 'fit'}, 'thumb': {'w': 150, 'h': 150, 'resize': 'crop'}, 'large': {'w': 1200, 'h': 628, 'resize': 'fit'}, 'small': {'w': 680, 'h': 356, 'resize': 'fit'}}}]}, 'metadata': {'result_type': 'popular', 'iso_language_code': 'en'}, 'source': '<a href=\"http://twitter.com\" rel=\"nofollow\">Twitter Web Client</a>', 'in_reply_to_status_id': None, 'in_reply_to_status_id_str': None, 'in_reply_to_user_id': None, 'in_reply_to_user_id_str': None, 'in_reply_to_screen_name': None, 'user': {'id': 138372303, 'id_str': '138372303', 'name': 'FIFA World Cup', 'screen_name': 'FIFAWorldCup', 'location': 'Moscow, Russia', 'description': 'The official Twitter account of the FIFA World Cup!', 'url': 'https://t.co/NhpNiwtgzP', 'entities': {'url': {'urls': [{'url': 'https://t.co/NhpNiwtgzP', 'expanded_url': 'http://www.fifa.com/worldcup', 'display_url': 'fifa.com/worldcup', 'indices': [0, 23]}]}, 'description': {'urls': []}}, 'protected': False, 'followers_count': 6973335, 'friends_count': 544, 'listed_count': 12615, 'created_at': 'Thu Apr 29 10:58:07 +0000 2010', 'favourites_count': 553, 'utc_offset': None, 'time_zone': None, 'geo_enabled': True, 'verified': True, 'statuses_count': 18832, 'lang': 'en', 'contributors_enabled': False, 'is_translator': False, 'is_translation_enabled': False, 'profile_background_color': 'C6E2EE', 'profile_background_image_url': 'http://abs.twimg.com/images/themes/theme1/bg.png', 'profile_background_image_url_https': 'https://abs.twimg.com/images/themes/theme1/bg.png', 'profile_background_tile': False, 'profile_image_url': 'http://pbs.twimg.com/profile_images/1018412081677328384/KqxZyazx_normal.jpg', 'profile_image_url_https': 'https://pbs.twimg.com/profile_images/1018412081677328384/KqxZyazx_normal.jpg', 'profile_banner_url': 'https://pbs.twimg.com/profile_banners/138372303/1531676624', 'profile_link_color': '1B95E0', 'profile_sidebar_border_color': 'FFFFFF', 'profile_sidebar_fill_color': 'DAECF4', 'profile_text_color': '663B12', 'profile_use_background_image': True, 'has_extended_profile': False, 'default_profile': False, 'default_profile_image': False, 'following': False, 'follow_request_sent': False, 'notifications': False, 'translator_type': 'none'}, 'geo': None, 'coordinates': None, 'place': None, 'contributors': None, 'is_quote_status': False, 'retweet_count': 19517, 'favorite_count': 36156, 'favorited': False, 'retweeted': False, 'possibly_sensitive': False, 'lang': 'en'}], 'search_metadata': {'completed_in': 0.043, 'max_id': 0, 'max_id_str': '0', 'next_results': '?max_id=1018539151556149247&q=FIFA&lang=en&count=2&include_entities=1&result_type=popular', 'query': 'FIFA', 'count': 2, 'since_id': 0, 'since_id_str': '0'}}\n"
     ]
    }
   ],
   "source": [
    "result_dict = twitter.search(q='FIFA',lang ='en',count=2, result_type='popular')\n",
    "print(result_dict)"
   ]
  },
  {
   "cell_type": "code",
   "execution_count": 6,
   "metadata": {},
   "outputs": [
    {
     "name": "stdout",
     "output_type": "stream",
     "text": [
      "⭐️⭐️\n",
      "#FRA\n",
      "\n",
      "France have won the 2018 FIFA #WorldCup in Moscow! \n",
      "\n",
      "#FRACRO // #WorldCupFinal https://t.co/fZhmJmxjVh\n",
      "######################################\n",
      "FIFA Young Player Award: \n",
      "\n",
      "🥇Kylian MBAPPE (#FRA) \n",
      "\n",
      "#WorldCup https://t.co/v4eMfItkkP\n",
      "######################################\n"
     ]
    }
   ],
   "source": [
    "list_tweets = result_dict['statuses']\n",
    "for tweet in list_tweets:\n",
    "    print(tweet['text'])\n",
    "    print('######################################')"
   ]
  },
  {
   "cell_type": "markdown",
   "metadata": {},
   "source": [
    "# Twitter to MongoDB using python"
   ]
  },
  {
   "cell_type": "code",
   "execution_count": null,
   "metadata": {
    "collapsed": true
   },
   "outputs": [],
   "source": [
    "#before that run commond  conda install twython in annoconda prompt\n",
    "from twython import Twython\n",
    "#http://developer.twitter.com?\n",
<<<<<<< HEAD
    "consumer_key = 's............9'\n",
    "consumer_secret = 'V................J'\n",
    "access_token ='1.............................H' \n",
    "access_token_secret = 'ON..........................H'"
=======
    "consumer_key = 'szO2Xat7b.............5Bo..9'\n",
    "consumer_secret = 'Vh......J'\n",
    "access_token ='10186......544769-T.......' \n",
    "access_token_secret = 'O........'"
>>>>>>> 9df1868d67946db123ab2ac64b0af0272e3db206
   ]
  },
  {
   "cell_type": "code",
   "execution_count": null,
   "metadata": {},
   "outputs": [],
   "source": [
    "#from twython import Twython\n",
    "#import pymongo"
   ]
  },
  {
   "cell_type": "code",
   "execution_count": null,
   "metadata": {},
   "outputs": [],
   "source": [
    "result_dict = twitter.search(q = 'FIFA', lang = 'en', count = 5, result_type = 'popular')\n",
    "list_tweets = result_dict['statuses']\n",
    "for tweet in list_tweets:\n",
    "    print(tweet['text'])\n",
    "    print('##########################################3')"
   ]
  },
  {
   "cell_type": "code",
   "execution_count": null,
   "metadata": {},
   "outputs": [],
   "source": [
    "connection = pymongo.MongoClient()\n",
    "\n",
    "mydb = connection.twitter\n",
    "db_tweets = mydb.tweets"
   ]
  },
  {
   "cell_type": "raw",
   "metadata": {},
   "source": [
    "db_tweets.insert_many(list_tweets)"
   ]
  },
  {
   "cell_type": "code",
   "execution_count": null,
   "metadata": {},
   "outputs": [],
   "source": [
    "#select from collection\n",
    "records_all = db_tweets.find()\n",
    "for record in records_all:\n",
    "    print(record['text'])\n",
    "    print(record['entities'])\n",
    "    print(record['created_at'])"
   ]
  },
  {
   "cell_type": "markdown",
   "metadata": {},
   "source": [
    "# Sentiment Analysis"
   ]
  },
  {
   "cell_type": "code",
   "execution_count": null,
   "metadata": {},
   "outputs": [],
   "source": [
    "import re\n",
    "#conda install -c conda-forge textblob\n",
    "from textblob import TextBlob"
   ]
  },
  {
   "cell_type": "code",
   "execution_count": null,
   "metadata": {},
   "outputs": [],
   "source": [
    "def clean"
   ]
  }
 ],
 "metadata": {
  "kernelspec": {
   "display_name": "Python 3",
   "language": "python",
   "name": "python3"
  },
  "language_info": {
   "codemirror_mode": {
    "name": "ipython",
    "version": 3
   },
   "file_extension": ".py",
   "mimetype": "text/x-python",
   "name": "python",
   "nbconvert_exporter": "python",
   "pygments_lexer": "ipython3",
   "version": "3.5.5"
  },
  "varInspector": {
   "cols": {
    "lenName": 16,
    "lenType": 16,
    "lenVar": 40
   },
   "kernels_config": {
    "python": {
     "delete_cmd_postfix": "",
     "delete_cmd_prefix": "del ",
     "library": "var_list.py",
     "varRefreshCmd": "print(var_dic_list())"
    },
    "r": {
     "delete_cmd_postfix": ") ",
     "delete_cmd_prefix": "rm(",
     "library": "var_list.r",
     "varRefreshCmd": "cat(var_dic_list()) "
    }
   },
   "types_to_exclude": [
    "module",
    "function",
    "builtin_function_or_method",
    "instance",
    "_Feature"
   ],
   "window_display": false
  }
 },
 "nbformat": 4,
 "nbformat_minor": 2
}
