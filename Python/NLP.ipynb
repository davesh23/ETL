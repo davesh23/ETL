{
 "cells": [
  {
   "cell_type": "code",
   "execution_count": 1,
   "metadata": {},
   "outputs": [
    {
     "ename": "ModuleNotFoundError",
     "evalue": "No module named 'sputnik'",
     "output_type": "error",
     "traceback": [
      "\u001b[1;31m---------------------------------------------------------------------------\u001b[0m",
      "\u001b[1;31mModuleNotFoundError\u001b[0m                       Traceback (most recent call last)",
      "\u001b[1;32m<ipython-input-1-61422650b1d3>\u001b[0m in \u001b[0;36m<module>\u001b[1;34m()\u001b[0m\n\u001b[0;32m      1\u001b[0m \u001b[1;31m#conda install -c spacy spacy\u001b[0m\u001b[1;33m\u001b[0m\u001b[1;33m\u001b[0m\u001b[0m\n\u001b[0;32m      2\u001b[0m \u001b[1;31m#python -m spacy download en\u001b[0m\u001b[1;33m\u001b[0m\u001b[1;33m\u001b[0m\u001b[0m\n\u001b[1;32m----> 3\u001b[1;33m \u001b[1;32mimport\u001b[0m \u001b[0mspacy\u001b[0m\u001b[1;33m\u001b[0m\u001b[0m\n\u001b[0m\u001b[0;32m      4\u001b[0m \u001b[1;32mimport\u001b[0m \u001b[0men_core_web_sm\u001b[0m\u001b[1;33m\u001b[0m\u001b[0m\n\u001b[0;32m      5\u001b[0m \u001b[1;33m\u001b[0m\u001b[0m\n",
      "\u001b[1;32m~\\Anaconda3\\lib\\site-packages\\spacy\\__init__.py\u001b[0m in \u001b[0;36m<module>\u001b[1;34m()\u001b[0m\n\u001b[1;32m----> 1\u001b[1;33m \u001b[1;32mfrom\u001b[0m \u001b[1;33m.\u001b[0m\u001b[0mutil\u001b[0m \u001b[1;32mimport\u001b[0m \u001b[0mset_lang_class\u001b[0m\u001b[1;33m,\u001b[0m \u001b[0mget_lang_class\u001b[0m\u001b[1;33m,\u001b[0m \u001b[0mget_package\u001b[0m\u001b[1;33m,\u001b[0m \u001b[0mget_package_by_name\u001b[0m\u001b[1;33m\u001b[0m\u001b[0m\n\u001b[0m\u001b[0;32m      2\u001b[0m \u001b[1;33m\u001b[0m\u001b[0m\n\u001b[0;32m      3\u001b[0m \u001b[1;32mfrom\u001b[0m \u001b[1;33m.\u001b[0m \u001b[1;32mimport\u001b[0m \u001b[0men\u001b[0m\u001b[1;33m\u001b[0m\u001b[0m\n\u001b[0;32m      4\u001b[0m \u001b[1;32mfrom\u001b[0m \u001b[1;33m.\u001b[0m \u001b[1;32mimport\u001b[0m \u001b[0mde\u001b[0m\u001b[1;33m\u001b[0m\u001b[0m\n\u001b[0;32m      5\u001b[0m \u001b[1;32mfrom\u001b[0m \u001b[1;33m.\u001b[0m \u001b[1;32mimport\u001b[0m \u001b[0mzh\u001b[0m\u001b[1;33m\u001b[0m\u001b[0m\n",
      "\u001b[1;32m~\\Anaconda3\\lib\\site-packages\\spacy\\util.py\u001b[0m in \u001b[0;36m<module>\u001b[1;34m()\u001b[0m\n\u001b[0;32m      6\u001b[0m \u001b[1;33m\u001b[0m\u001b[0m\n\u001b[0;32m      7\u001b[0m \u001b[1;32mimport\u001b[0m \u001b[0msix\u001b[0m\u001b[1;33m\u001b[0m\u001b[0m\n\u001b[1;32m----> 8\u001b[1;33m \u001b[1;32mimport\u001b[0m \u001b[0msputnik\u001b[0m\u001b[1;33m\u001b[0m\u001b[0m\n\u001b[0m\u001b[0;32m      9\u001b[0m \u001b[1;32mfrom\u001b[0m \u001b[0msputnik\u001b[0m\u001b[1;33m.\u001b[0m\u001b[0mdir_package\u001b[0m \u001b[1;32mimport\u001b[0m \u001b[0mDirPackage\u001b[0m\u001b[1;33m\u001b[0m\u001b[0m\n\u001b[0;32m     10\u001b[0m from sputnik.package_list import (PackageNotFoundException,\n",
      "\u001b[1;31mModuleNotFoundError\u001b[0m: No module named 'sputnik'"
     ]
    }
   ],
   "source": [
    "#conda install -c spacy spacy\n",
    "#python -m spacy download en\n",
    "import spacy\n",
    "import en_core_web_sm\n",
    "\n",
    "nlp = en_core_web_sm.load()"
   ]
  },
  {
   "cell_type": "markdown",
   "metadata": {},
   "source": [
    "the object\"nlp\" is used to create document,acess linguistic annotations and differnt nlp properties. lets create a document by loading a text data in our pipeline. we will use reviews of a  hotel obtained from tripadvisor's website."
   ]
  },
  {
   "cell_type": "code",
   "execution_count": 5,
   "metadata": {},
   "outputs": [
    {
     "name": "stdout",
     "output_type": "stream",
     "text": [
      "﻿Nice place Better than some reviews give it credit for. Overall, the rooms were a bit small but nice. Everything was clean, the view was wonderful and it is very well located (the Prudential Center makes shopping and eating easy and the T is nearby for jaunts out and about the city). Overall, it was a good experience and the staff was quite friendly. \n",
      "what a surprise What a surprise the Sheraton was after reading some of the reviews. it would appear there is a massive difference in the rooms, the South tower being the best. Check in was very efficient and the room was lovely, very large with the most comfortable beds ever. The hotel as stated is in a fantastic location and the Wrentham Village outlet is well worth a visit for bargain shopping ( the bus picks up outside). The hotel bar is a little pricey ( not helped by the current dollar rate) but is a nice place to relax after a busy day shopping. There is a number of restaurants close by. A cab from the airport to the hotel can be cheaper than the shuttles depending what time of the day you go. If it is not rush hour it is just under $30. \n",
      "Good location       Boston from 17th Floor of Sheraton Hotel \n",
      "Find an alternative to the Sheraton We stayed at this hotel for 3 nights. I felt like we were staying in a motel. All toiletries apart from sampoo, conditioner and body lotion were not in the room. Even the robe was not there. For the price you pay, you do expect a little more.Cleaning was done at eratic times of the day, ie 3.30pm! The hotel is very busy with conferences and evening parties so there is alot of people around all the time. The lobby is like a train station with the people coming through. We felt that people staying at the Hilton accross the road, used the hotel as a short cut into the shops. \n",
      "\n"
     ]
    }
   ],
   "source": [
    "with open(\"F:/Tripadvisor_hotelreviews_short.txt\",encoding='utf8') as fp:\n",
    "    document = fp.read()\n",
    "    document = nlp(document)\n",
    "print(document)"
   ]
  },
  {
   "cell_type": "code",
   "execution_count": 6,
   "metadata": {},
   "outputs": [
    {
     "data": {
      "text/plain": [
       "['_',\n",
       " '__bytes__',\n",
       " '__class__',\n",
       " '__delattr__',\n",
       " '__dir__',\n",
       " '__doc__',\n",
       " '__eq__',\n",
       " '__format__',\n",
       " '__ge__',\n",
       " '__getattribute__',\n",
       " '__getitem__',\n",
       " '__gt__',\n",
       " '__hash__',\n",
       " '__init__',\n",
       " '__init_subclass__',\n",
       " '__iter__',\n",
       " '__le__',\n",
       " '__len__',\n",
       " '__lt__',\n",
       " '__ne__',\n",
       " '__new__',\n",
       " '__pyx_vtable__',\n",
       " '__reduce__',\n",
       " '__reduce_ex__',\n",
       " '__repr__',\n",
       " '__setattr__',\n",
       " '__setstate__',\n",
       " '__sizeof__',\n",
       " '__str__',\n",
       " '__subclasshook__',\n",
       " '__unicode__',\n",
       " '_py_tokens',\n",
       " '_realloc',\n",
       " '_vector',\n",
       " '_vector_norm',\n",
       " 'cats',\n",
       " 'char_span',\n",
       " 'count_by',\n",
       " 'doc',\n",
       " 'ents',\n",
       " 'extend_tensor',\n",
       " 'from_array',\n",
       " 'from_bytes',\n",
       " 'from_disk',\n",
       " 'get_extension',\n",
       " 'get_lca_matrix',\n",
       " 'has_extension',\n",
       " 'has_vector',\n",
       " 'is_parsed',\n",
       " 'is_sentenced',\n",
       " 'is_tagged',\n",
       " 'mem',\n",
       " 'merge',\n",
       " 'noun_chunks',\n",
       " 'noun_chunks_iterator',\n",
       " 'print_tree',\n",
       " 'retokenize',\n",
       " 'sentiment',\n",
       " 'sents',\n",
       " 'set_extension',\n",
       " 'similarity',\n",
       " 'tensor',\n",
       " 'text',\n",
       " 'text_with_ws',\n",
       " 'to_array',\n",
       " 'to_bytes',\n",
       " 'to_disk',\n",
       " 'user_data',\n",
       " 'user_hooks',\n",
       " 'user_span_hooks',\n",
       " 'user_token_hooks',\n",
       " 'vector',\n",
       " 'vector_norm',\n",
       " 'vocab']"
      ]
     },
     "execution_count": 6,
     "metadata": {},
     "output_type": "execute_result"
    }
   ],
   "source": [
    "dir(document)"
   ]
  },
  {
   "cell_type": "markdown",
   "metadata": {},
   "source": [
    "# Tokenization"
   ]
  },
  {
   "cell_type": "code",
   "execution_count": 7,
   "metadata": {},
   "outputs": [
    {
     "data": {
      "text/plain": [
       "﻿Nice"
      ]
     },
     "execution_count": 7,
     "metadata": {},
     "output_type": "execute_result"
    }
   ],
   "source": [
    "#first tocken of the doc\n",
    "document[0]"
   ]
  },
  {
   "cell_type": "code",
   "execution_count": 8,
   "metadata": {},
   "outputs": [
    {
     "data": {
      "text/plain": [
       "shops"
      ]
     },
     "execution_count": 8,
     "metadata": {},
     "output_type": "execute_result"
    }
   ],
   "source": [
    "#last tocken of the doc\n",
    "document[len(document)-3]"
   ]
  },
  {
   "cell_type": "code",
   "execution_count": 9,
   "metadata": {},
   "outputs": [
    {
     "data": {
      "text/plain": [
       "[﻿Nice place Better than some reviews give it credit for.,\n",
       " Overall, the rooms were a bit small but nice.,\n",
       " Everything was clean, the view was wonderful and it is very well located (the Prudential Center makes shopping and eating easy and the T is nearby for jaunts out and about the city).,\n",
       " Overall, it was a good experience and the staff was quite friendly. ,\n",
       " what a surprise What a surprise the Sheraton was after reading some of the reviews.,\n",
       " it would appear there is a massive difference in the rooms, the South tower being the best.,\n",
       " Check in was very efficient and the room was lovely, very large with the most comfortable beds ever.,\n",
       " The hotel as stated is in a fantastic location and the Wrentham Village outlet is well worth a visit for bargain shopping ( the bus picks up outside).,\n",
       " The hotel bar is a little pricey ( not helped by the current dollar rate) but is a nice place to relax after a busy day shopping.,\n",
       " There is a number of restaurants close by.,\n",
       " A cab from the airport to the hotel can be cheaper than the shuttles depending what time of the day you go.,\n",
       " If it is not rush hour it is just under $30. ,\n",
       " Good location       Boston from 17th Floor of Sheraton Hotel \n",
       " Find an alternative to the Sheraton We stayed at this hotel for 3 nights.,\n",
       " I felt like we were staying in a motel.,\n",
       " All toiletries apart from sampoo, conditioner and body lotion were not in the room.,\n",
       " Even the robe was not there.,\n",
       " For the price you pay, you do expect a little more.,\n",
       " Cleaning was done at eratic times of the day, ie 3.30pm!,\n",
       " The hotel is very busy with conferences and evening parties so there is alot of people around all the time.,\n",
       " The lobby is like a train station with the people coming through.,\n",
       " We felt that people staying at the Hilton accross the road, used the hotel as a short cut into the shops. ]"
      ]
     },
     "execution_count": 9,
     "metadata": {},
     "output_type": "execute_result"
    }
   ],
   "source": [
    "#list of sentences of our doc\n",
    "list(document.sents)"
   ]
  },
  {
   "cell_type": "markdown",
   "metadata": {},
   "source": [
    "# Part of speech Tagging"
   ]
  },
  {
   "cell_type": "code",
   "execution_count": 10,
   "metadata": {
    "collapsed": true
   },
   "outputs": [],
   "source": [
    "all_tags = {w.pos:w.pos_ for w in document}"
   ]
  },
  {
   "cell_type": "code",
   "execution_count": 11,
   "metadata": {},
   "outputs": [
    {
     "name": "stdout",
     "output_type": "stream",
     "text": [
      "{96: 'PUNCT', 91: 'NOUN', 83: 'ADJ', 84: 'ADP', 89: 'DET', 99: 'VERB', 94: 'PRON', 85: 'ADV', 88: 'CCONJ', 95: 'PROPN', 102: 'SPACE', 93: 'PART', 98: 'SYM', 92: 'NUM', 100: 'X'}\n"
     ]
    }
   ],
   "source": [
    "print(all_tags)"
   ]
  },
  {
   "cell_type": "code",
   "execution_count": 13,
   "metadata": {},
   "outputs": [
    {
     "name": "stdout",
     "output_type": "stream",
     "text": [
      "﻿Nice LS\n",
      "place NN\n",
      "Better JJR\n",
      "than IN\n",
      "some DT\n",
      "reviews NNS\n",
      "give VBP\n",
      "it PRP\n",
      "credit NN\n",
      "for IN\n",
      ". .\n"
     ]
    }
   ],
   "source": [
    "#all tags of first sentence of our document\n",
    "for word in list(document.sents)[0]:\n",
    "    print(word,word.tag_)"
   ]
  },
  {
   "cell_type": "code",
   "execution_count": 14,
   "metadata": {
    "collapsed": true
   },
   "outputs": [],
   "source": [
    "#define some parameter\n",
    "noisy_pos_tags = [\"PROP\"]\n",
    "min_token_length = 2"
   ]
  },
  {
   "cell_type": "code",
   "execution_count": 25,
   "metadata": {},
   "outputs": [],
   "source": [
    "#function to check if the tocken is a noise or not\n",
    "def isNoise(token):\n",
    "    is_noise =False\n",
    "    if token.pos_ in noisy_pos_tags:\n",
    "        is_noise = True\n",
    "    elif token.is_stop == True:\n",
    "        is_noise = True\n",
    "    elif len(token.string) <= min_token_length:\n",
    "        is_noise = True\n",
    "    return is_noise  \n",
    "        "
   ]
  },
  {
   "cell_type": "code",
   "execution_count": 26,
   "metadata": {
    "collapsed": true
   },
   "outputs": [],
   "source": [
    "def cleanup(token, lower = True):\n",
    "    if lower:\n",
    "        token = token.lower()\n",
    "    return token.strip()"
   ]
  },
  {
   "cell_type": "code",
   "execution_count": 27,
   "metadata": {},
   "outputs": [
    {
     "data": {
      "text/plain": [
       "[('hotel', 7), ('the', 4), ('shopping', 3), ('sheraton', 3), ('day', 3)]"
      ]
     },
     "execution_count": 27,
     "metadata": {},
     "output_type": "execute_result"
    }
   ],
   "source": [
    "#top unigram used in the reviews\n",
    "from collections import Counter\n",
    "cleaned_list = [cleanup(word.string) for word in document if not isNoise(word)]\n",
    "Counter(cleaned_list).most_common(5)"
   ]
  },
  {
   "cell_type": "markdown",
   "metadata": {},
   "source": [
    "# Entity Detection"
   ]
  },
  {
   "cell_type": "code",
   "execution_count": 29,
   "metadata": {},
   "outputs": [
    {
     "name": "stdout",
     "output_type": "stream",
     "text": [
      "GPE ['', 'Boston', 'the Wrentham Village']\n",
      "CARDINAL ['3.30pm']\n",
      "TIME ['3 nights', 'evening']\n",
      "ORG ['\\ufeffNice', 'the Prudential Center', 'Sheraton', 'Floor of Sheraton Hotel \\nFind', 'Hilton']\n",
      "DATE ['the day']\n",
      "ORDINAL ['17th']\n",
      "LOC ['South']\n",
      "MONEY ['just under $30']\n"
     ]
    }
   ],
   "source": [
    "labels = set([w.label_ for w in document.ents])\n",
    "for label in labels:\n",
    "    entities = [cleanup(e.string, lower=False) for e in document.ents if label==e.label_]\n",
    "    entities = list(set(entities))\n",
    "    print(label,entities)"
   ]
  },
  {
   "cell_type": "code",
   "execution_count": null,
   "metadata": {
    "collapsed": true
   },
   "outputs": [],
   "source": []
  }
 ],
 "metadata": {
  "kernelspec": {
   "display_name": "Python 3",
   "language": "python",
   "name": "python3"
  },
  "language_info": {
   "codemirror_mode": {
    "name": "ipython",
    "version": 3
   },
   "file_extension": ".py",
   "mimetype": "text/x-python",
   "name": "python",
   "nbconvert_exporter": "python",
   "pygments_lexer": "ipython3",
   "version": "3.6.5"
  }
 },
 "nbformat": 4,
 "nbformat_minor": 2
}
